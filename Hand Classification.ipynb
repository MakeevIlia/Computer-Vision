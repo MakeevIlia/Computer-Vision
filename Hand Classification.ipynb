{
 "cells": [
  {
   "cell_type": "code",
   "execution_count": 15,
   "metadata": {},
   "outputs": [],
   "source": [
    "import cv2 as cv\n",
    "import cv2\n",
    "import numpy as np\n",
    "import math\n",
    "import glob\n",
    "import os\n",
    "import pandas as pd\n",
    "from sklearn.cluster import KMeans\n",
    "import matplotlib.pyplot as plt\n",
    "\n",
    "k = 0\n",
    "Result = []\n",
    "for img in glob.glob(\"C:/Users/Frederik/Desktop/123/*.tif\"): #папка исходных фотографий\n",
    "    img = cv2.imread(img) #считывание фотографии\n",
    "    cv2.imwrite(os.path.join(\"C:/Users/Frederik/Desktop/Init/\" , 'img'+str(k)+'.jpg'), img) #сохранение фотографии в виде, указанном в отчете\n",
    "    hsvim = cv.cvtColor(img, cv.COLOR_BGR2HSV) # перевод цветного изображения в черно-белый\n",
    "    lower = np.array([0, 0, 45], dtype = \"uint8\") # определение нижних границ бинаризации\n",
    "    upper = np.array([200, 255, 255], dtype = \"uint8\") # определение верхних границ бинаризации\n",
    "\n",
    "    skinRegionHSV = cv.inRange(hsvim, lower, upper) # бинаризация изображения для отделения фона\n",
    "\n",
    "\n",
    "    blurred = cv.blur(skinRegionHSV,(1,1)) # применение сглаживания\n",
    "    ret,thresh = cv.threshold(blurred,0,255,cv.THRESH_BINARY) # применение бинаризации\n",
    "\n",
    "    contours, hierarchy = cv.findContours(thresh, cv.RETR_TREE, cv.CHAIN_APPROX_SIMPLE) # поиск контуров\n",
    "    contours = max(contours, key=lambda x: cv.contourArea(x)) # поиск самого большого контура, описывающего руку\n",
    " \n",
    "    hull = cv.convexHull(contours, returnPoints=False) # определение внешней ломаной \n",
    "    defects = cv.convexityDefects(contours, hull)  # определение внутренней ломаной \n",
    "\n",
    "    starts = [] # массив точек начал ломаных линиий\n",
    "    ends = [] # массив точек середин ломаных линиий\n",
    "    fars = [] # массив точек конца ломаных линиий\n",
    "\n",
    "    for i in range(defects.shape[0]):  # подсчет угла между пальцами с помощью теоремы косинусов\n",
    "        s, e, f, d = defects[i][0]\n",
    "        start = tuple(contours[s][0])\n",
    "        end = tuple(contours[e][0])\n",
    "        far = tuple(contours[f][0])\n",
    "        a = np.sqrt((end[0] - start[0]) ** 2 + (end[1] - start[1]) ** 2)\n",
    "        b = np.sqrt((far[0] - start[0]) ** 2 + (far[1] - start[1]) ** 2)\n",
    "        c = np.sqrt((end[0] - far[0]) ** 2 + (end[1] - far[1]) ** 2)\n",
    "        angle = np.arccos((b ** 2 + c ** 2 - a ** 2) / (2 * b * c))  \n",
    "        if angle <= np.pi / 2:   # определение ломаной в качестве пальца, если угол меньше 90 градусов\n",
    "            starts.append(start) # запись соответствующих точек в массивы\n",
    "            ends.append(end)\n",
    "            fars.append(far)\n",
    "\n",
    "    for i in range(len(starts)): # замыкание точек на подушечках пальцев\n",
    "        for j in range(len(starts)):\n",
    "            if 50 > math.dist(starts[i], ends[j]) > 0 and i != j:\n",
    "                q = ((starts[i][0] + ends[j][0]) // 2, (starts[i][1] + ends[j][1]) // 2)\n",
    "                starts[i] = q\n",
    "                ends[j] = q\n",
    "\n",
    "    while len(starts) > 4: # исключения из рассмотрения \"лишних\" пальцев, если они были найдены\n",
    "        w = starts.index(max(starts, key = lambda x: x[1]))\n",
    "        starts.pop(w)\n",
    "        ends.pop(w)\n",
    "        fars.pop(w)\n",
    "\n",
    "    for i in range(len(starts)): # изображение результатов на исходном изображении\n",
    "        cv.line(img,starts[i],fars[i],(0,255,0),2)\n",
    "        cv.line(img,fars[i],ends[i],(0,255,0),2)\n",
    "\n",
    "        cv.circle(img, fars[i], 7, [0, 255, 0], -1)\n",
    "        cv.circle(img, starts[i], 7, [0, 255, 0], -1)\n",
    "        cv.circle(img, ends[i], 7, [0, 255, 0], -1)\n",
    "\n",
    "        cv.circle(img, fars[i], 5, [255, 255, 255], -1)\n",
    "        cv.circle(img, starts[i], 5, [255, 255, 255], -1)\n",
    "        cv.circle(img, ends[i], 5, [255, 255, 255], -1)\n",
    "\n",
    "\n",
    "    ars = [] # подсчет значений для определения форм\n",
    "    brs = []\n",
    "    crs = []\n",
    "    ans = []\n",
    "    for i in range(len(starts)):\n",
    "        start = starts[i]\n",
    "        end = ends[i]\n",
    "        far = fars[i]\n",
    "        a = np.sqrt((end[0] - start[0]) ** 2 + (end[1] - start[1]) ** 2)\n",
    "        b = np.sqrt((far[0] - start[0]) ** 2 + (far[1] - start[1]) ** 2)\n",
    "        c = np.sqrt((end[0] - far[0]) ** 2 + (end[1] - far[1]) ** 2)\n",
    "        angle = np.arccos((b ** 2 + c ** 2 - a ** 2) / (2 * b * c))\n",
    "        ars.append(a)\n",
    "        brs.append(b)\n",
    "        crs.append(c)\n",
    "        ans.append(angle)\n",
    "    Result.append(ars + brs + crs + ans) # записывание значений в результирующий массив со всеми значениями вех изображений\n",
    "\n",
    "    cv2.imwrite(os.path.join(\"C:/Users/Frederik/Desktop/Res/\" , 'img'+str(k)+'.jpg'), img) # сохранение измененного изображения\n",
    "    k += 1"
   ]
  },
  {
   "cell_type": "code",
   "execution_count": 2,
   "metadata": {},
   "outputs": [],
   "source": [
    "for i in Result: # одна фотография была, к сожалению, подпорчена, поэтому применяется дозаполнение неполных массивов нулями\n",
    "    for j in range(len(i),16):\n",
    "        i.append(0)\n",
    "\n",
    "Dists = [] # подсчет расстояний между точками в 16-мерном пространстве\n",
    "for i in range(len(Result)):\n",
    "    temp = []\n",
    "    for j in Result:\n",
    "        temp.append(np.linalg.norm(np.array(Result[i]) - np.array(j)))\n",
    "    temp[i] = 10000\n",
    "    Dists.append(temp)"
   ]
  },
  {
   "cell_type": "code",
   "execution_count": 3,
   "metadata": {},
   "outputs": [
    {
     "data": {
      "text/plain": [
       "matrix([[10000.        ,    61.2787923 ,   249.45868799, ...,\n",
       "           290.58195657,    82.65212299,   227.8714376 ],\n",
       "        [   61.2787923 , 10000.        ,   225.29908553, ...,\n",
       "           265.4657319 ,    75.34019926,   216.20191899],\n",
       "        [  249.45868799,   225.29908553, 10000.        , ...,\n",
       "           264.21132135,   203.59885021,   243.47429719],\n",
       "        ...,\n",
       "        [  290.58195657,   265.4657319 ,   264.21132135, ...,\n",
       "         10000.        ,   259.91072927,   253.06429197],\n",
       "        [   82.65212299,    75.34019926,   203.59885021, ...,\n",
       "           259.91072927, 10000.        ,   180.50419524],\n",
       "        [  227.8714376 ,   216.20191899,   243.47429719, ...,\n",
       "           253.06429197,   180.50419524, 10000.        ]])"
      ]
     },
     "execution_count": 3,
     "metadata": {},
     "output_type": "execute_result"
    }
   ],
   "source": [
    "np.array(Dists).view(type=np.matrix) # матрица полученных расстояний"
   ]
  },
  {
   "cell_type": "code",
   "execution_count": 4,
   "metadata": {},
   "outputs": [],
   "source": [
    "wri = [] # определение ближайших соседей\n",
    "for i in range(len(Dists)):\n",
    "    a = np.argpartition(Dists[i], 3)\n",
    "    temp = [i]\n",
    "    for j in range(3):\n",
    "        temp.append(a[j])\n",
    "    wri.append(temp)"
   ]
  },
  {
   "cell_type": "code",
   "execution_count": 5,
   "metadata": {},
   "outputs": [],
   "source": [
    "array = wri # запись данных в таблицу\n",
    "df = pd.DataFrame(array)\n",
    "df.to_excel(excel_writer = \"C:/Users/Frederik/Desktop/Top3.xlsx\")"
   ]
  },
  {
   "cell_type": "code",
   "execution_count": 6,
   "metadata": {},
   "outputs": [
    {
     "data": {
      "image/png": "[encoded data removed]",
      "text/plain": [
       "<Figure size 432x288 with 1 Axes>"
      ]
     },
     "metadata": {
      "needs_background": "light"
     },
     "output_type": "display_data"
    }
   ],
   "source": [
    "Sum_of_squared_distances = [] # поиск оптимального числа кластеров\n",
    "K = range(1,20)\n",
    "for k in K:\n",
    "    km = KMeans(n_clusters=k)\n",
    "    km = km.fit(Result)\n",
    "    Sum_of_squared_distances.append(km.inertia_)\n",
    "    \n",
    "plt.plot(K, Sum_of_squared_distances, 'bx-')\n",
    "plt.xlabel('k')\n",
    "plt.ylabel('Sum of squared distances')\n",
    "plt.title('Elbow Method For Optimal k')\n",
    "plt.show()"
   ]
  },
  {
   "cell_type": "code",
   "execution_count": 11,
   "metadata": {},
   "outputs": [],
   "source": [
    "kmeans = KMeans(n_clusters=10, random_state=0).fit(Result) # применение кластеризации"
   ]
  },
  {
   "cell_type": "code",
   "execution_count": 12,
   "metadata": {},
   "outputs": [
    {
     "data": {
      "text/plain": [
       "[[array([18, 21, 22, 23, 25, 31, 35, 39, 41, 45, 50, 51, 60, 64, 75, 80, 82,\n",
       "         83, 84, 85, 86, 90], dtype=int64)],\n",
       " [array([20, 30, 37, 44, 46, 47, 55, 56, 61, 67, 70, 71, 77, 98],\n",
       "        dtype=int64)],\n",
       " [array([33, 53], dtype=int64)],\n",
       " [array([ 3,  8, 38, 59, 62, 66, 87, 95, 96], dtype=int64)],\n",
       " [array([ 2,  5,  7, 10, 24, 26, 27, 40, 42, 43, 49, 54, 65, 68, 76, 78, 81],\n",
       "        dtype=int64)],\n",
       " [array([63, 74], dtype=int64)],\n",
       " [array([29], dtype=int64)],\n",
       " [array([48, 72, 89, 92], dtype=int64)],\n",
       " [array([ 0,  1,  4,  6,  9, 11, 12, 13, 14, 15, 16, 17, 19, 28, 32, 34, 36,\n",
       "         52, 57, 58, 69, 79, 88, 91, 93, 94, 97], dtype=int64)],\n",
       " [array([73], dtype=int64)]]"
      ]
     },
     "execution_count": 12,
     "metadata": {},
     "output_type": "execute_result"
    }
   ],
   "source": [
    "mydict = {i: np.where(kmeans.labels_ == i)[0] for i in range(kmeans.n_clusters)}\n",
    "\n",
    "\n",
    "dictlist = []\n",
    "for key, value in mydict.items():\n",
    "    temp = [value]\n",
    "    dictlist.append(temp)\n",
    "dictlist # кластеризированные значения"
   ]
  },
  {
   "cell_type": "code",
   "execution_count": 13,
   "metadata": {},
   "outputs": [],
   "source": [
    "array = dictlist # сохранение кластеризированныХ значений в таблицу\n",
    "df = pd.DataFrame(array)\n",
    "df.to_excel(excel_writer = \"C:/Users/Frederik/Desktop/Persons.xlsx\")"
   ]
  }
 ],
 "metadata": {
  "kernelspec": {
   "display_name": "Python 3",
   "language": "python",
   "name": "python3"
  },
  "language_info": {
   "codemirror_mode": {
    "name": "ipython",
    "version": 3
   },
   "file_extension": ".py",
   "mimetype": "text/x-python",
   "name": "python",
   "nbconvert_exporter": "python",
   "pygments_lexer": "ipython3",
   "version": "3.8.5"
  }
 },
 "nbformat": 4,
 "nbformat_minor": 4
}
